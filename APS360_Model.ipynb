{
  "nbformat": 4,
  "nbformat_minor": 0,
  "metadata": {
    "colab": {
      "name": "APS360 Model.ipynb",
      "provenance": [],
      "collapsed_sections": [],
      "include_colab_link": true
    },
    "kernelspec": {
      "name": "python3",
      "display_name": "Python 3"
    }
  },
  "cells": [
    {
      "cell_type": "markdown",
      "metadata": {
        "id": "view-in-github",
        "colab_type": "text"
      },
      "source": [
        "<a href=\"https://colab.research.google.com/github/CarbonicKevin/APS360-2020Summer-Project/blob/master/APS360_Model.ipynb\" target=\"_parent\"><img src=\"https://colab.research.google.com/assets/colab-badge.svg\" alt=\"Open In Colab\"/></a>"
      ]
    },
    {
      "cell_type": "markdown",
      "metadata": {
        "id": "7rJy1gVvlpDT",
        "colab_type": "text"
      },
      "source": [
        "# Project Model v1"
      ]
    },
    {
      "cell_type": "markdown",
      "metadata": {
        "id": "z1thqqovDPM3",
        "colab_type": "text"
      },
      "source": [
        "#Pull from Github"
      ]
    },
    {
      "cell_type": "markdown",
      "metadata": {
        "id": "LMi62gy4EKSu",
        "colab_type": "text"
      },
      "source": [
        "Find git token: user profile > settings > developer settings > Personal Access tokens. [Scope:](https://developer.github.com/apps/building-oauth-apps/understanding-scopes-for-oauth-apps/) repo."
      ]
    },
    {
      "cell_type": "code",
      "metadata": {
        "id": "Q86yZH-WDS2-",
        "colab_type": "code",
        "colab": {
          "base_uri": "https://localhost:8080/",
          "height": 173
        },
        "outputId": "95d3a42c-dd67-4fed-fbb9-a44448ca2162"
      },
      "source": [
        "from google.colab import drive\n",
        "from os.path import join\n",
        "\n",
        "ROOT = '/content/drive'     # default for the drive\n",
        "PROJ = 'My Drive/...'       # path to your project on Drive\n",
        "\n",
        "GIT_USERNAME   = \"\"         #@param {type: \"string\"}\n",
        "GIT_TOKEN      = \"\"         #@param {type: \"string\"}\n",
        "GIT_REPOSITORY = \"APS360-2020Summer-Project\"\n",
        "\n",
        "\n",
        "drive.mount(ROOT)           # we mount the drive at /content/drive\n",
        "\n",
        "PROJECT_PATH = join(ROOT, PROJ)\n",
        "!mkdir \"{PROJECT_PATH}\"I    # in case we haven't created it already   \n",
        "\n",
        "GIT_PATH = \"https://{GIT_TOKEN}@github.com/{GIT_USERNAME}/{GIT_REPOSITORY}.git\"\n",
        "!mkdir ./temp\n",
        "!git clone \"{GIT_PATH}\"\n",
        "!mv ./temp/* \"{PROJECT_PATH}\"\n",
        "!rm -rf ./temp\n",
        "!rsync -aP --exclude=data/ \"{PROJECT_PATH}\"/*  ./"
      ],
      "execution_count": 17,
      "outputs": [
        {
          "output_type": "stream",
          "text": [
            "Drive already mounted at /content/drive; to attempt to forcibly remount, call drive.mount(\"/content/drive\", force_remount=True).\n",
            "mkdir: cannot create directory ‘/content/drive/My Drive/...I’: File exists\n",
            "Cloning into '{GIT_REPOSITORY}'...\n",
            "fatal: unable to access 'https://{GIT_TOKEN}@github.com/{GIT_USERNAME}/{GIT_REPOSITORY}.git/': The requested URL returned error: 400\n",
            "mv: cannot stat './temp/*': No such file or directory\n",
            "sending incremental file list\n",
            "rsync: change_dir \"/content/drive/My Drive/...\" failed: No such file or directory (2)\n",
            "rsync error: some files/attrs were not transferred (see previous errors) (code 23) at main.c(1196) [sender=3.1.2]\n"
          ],
          "name": "stdout"
        }
      ]
    },
    {
      "cell_type": "code",
      "metadata": {
        "id": "yY9ScPprFVNE",
        "colab_type": "code",
        "colab": {}
      },
      "source": [
        "# import library into google colab\n",
        "import imp \n",
        "lib = imp.new_module('code/train_AI_lib.py')\n",
        "exec(open(\"./code/train_AI_lib.py\").read(), lib.__dict__)"
      ],
      "execution_count": null,
      "outputs": []
    },
    {
      "cell_type": "markdown",
      "metadata": {
        "id": "a-hpyewNltdd",
        "colab_type": "text"
      },
      "source": [
        "## Model"
      ]
    },
    {
      "cell_type": "code",
      "metadata": {
        "id": "KaBbN2i68aIU",
        "colab_type": "code",
        "colab": {}
      },
      "source": [
        "dataPath = ''\n",
        "imgPath  = ''\n",
        "img_dataset = imgLoader(dataPath=dataPath, imgPath=imgPath)"
      ],
      "execution_count": null,
      "outputs": []
    }
  ]
}