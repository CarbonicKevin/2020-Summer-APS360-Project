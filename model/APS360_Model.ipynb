{
  "nbformat": 4,
  "nbformat_minor": 0,
  "metadata": {
    "colab": {
      "name": "APS360 Model.ipynb",
      "provenance": [],
      "collapsed_sections": [],
      "include_colab_link": true
    },
    "kernelspec": {
      "name": "python3",
      "display_name": "Python 3"
    }
  },
  "cells": [
    {
      "cell_type": "markdown",
      "metadata": {
        "id": "view-in-github",
        "colab_type": "text"
      },
      "source": [
        "<a href=\"https://colab.research.google.com/github/CarbonicKevin/APS360-2020Summer-Project/blob/master/Model/APS360_Model.ipynb\" target=\"_parent\"><img src=\"https://colab.research.google.com/assets/colab-badge.svg\" alt=\"Open In Colab\"/></a>"
      ]
    },
    {
      "cell_type": "markdown",
      "metadata": {
        "id": "7rJy1gVvlpDT",
        "colab_type": "text"
      },
      "source": [
        "# Project Model v1"
      ]
    },
    {
      "cell_type": "markdown",
      "metadata": {
        "id": "z1thqqovDPM3",
        "colab_type": "text"
      },
      "source": [
        "##(nvm)Pull from Github"
      ]
    },
    {
      "cell_type": "markdown",
      "metadata": {
        "id": "LMi62gy4EKSu",
        "colab_type": "text"
      },
      "source": [
        "Find git token: user profile > settings > developer settings > Personal Access tokens. [Scope:](https://developer.github.com/apps/building-oauth-apps/understanding-scopes-for-oauth-apps/) repo."
      ]
    },
    {
      "cell_type": "code",
      "metadata": {
        "id": "Q86yZH-WDS2-",
        "colab_type": "code",
        "colab": {
          "base_uri": "https://localhost:8080/",
          "height": 173
        },
        "outputId": "95d3a42c-dd67-4fed-fbb9-a44448ca2162"
      },
      "source": [
        "from google.colab import drive\n",
        "from os.path import join\n",
        "\n",
        "ROOT = '/content/drive'     # default for the drive\n",
        "PROJ = 'My Drive/...'       # path to your project on Drive\n",
        "\n",
        "GIT_USERNAME   = \"\"         #@param {type: \"string\"}\n",
        "GIT_TOKEN      = \"\"         #@param {type: \"string\"}\n",
        "GIT_REPOSITORY = \"APS360-2020Summer-Project\"\n",
        "\n",
        "\n",
        "drive.mount(ROOT)           # we mount the drive at /content/drive\n",
        "\n",
        "PROJECT_PATH = join(ROOT, PROJ)\n",
        "!mkdir \"{PROJECT_PATH}\"I    # in case we haven't created it already   \n",
        "\n",
        "GIT_PATH = \"https://{GIT_TOKEN}@github.com/{GIT_USERNAME}/{GIT_REPOSITORY}.git\"\n",
        "!mkdir ./temp\n",
        "!git clone \"{GIT_PATH}\"\n",
        "!mv ./temp/* \"{PROJECT_PATH}\"\n",
        "!rm -rf ./temp\n",
        "!rsync -aP --exclude=data/ \"{PROJECT_PATH}\"/*  ./"
      ],
      "execution_count": null,
      "outputs": [
        {
          "output_type": "stream",
          "text": [
            "Drive already mounted at /content/drive; to attempt to forcibly remount, call drive.mount(\"/content/drive\", force_remount=True).\n",
            "mkdir: cannot create directory ‘/content/drive/My Drive/...I’: File exists\n",
            "Cloning into '{GIT_REPOSITORY}'...\n",
            "fatal: unable to access 'https://{GIT_TOKEN}@github.com/{GIT_USERNAME}/{GIT_REPOSITORY}.git/': The requested URL returned error: 400\n",
            "mv: cannot stat './temp/*': No such file or directory\n",
            "sending incremental file list\n",
            "rsync: change_dir \"/content/drive/My Drive/...\" failed: No such file or directory (2)\n",
            "rsync error: some files/attrs were not transferred (see previous errors) (code 23) at main.c(1196) [sender=3.1.2]\n"
          ],
          "name": "stdout"
        }
      ]
    },
    {
      "cell_type": "code",
      "metadata": {
        "id": "yY9ScPprFVNE",
        "colab_type": "code",
        "colab": {}
      },
      "source": [
        "# import library into google colab\n",
        "import imp \n",
        "lib = imp.new_module('code/train_AI_lib.py')\n",
        "exec(open(\"./code/train_AI_lib.py\").read(), lib.__dict__)"
      ],
      "execution_count": null,
      "outputs": []
    },
    {
      "cell_type": "markdown",
      "metadata": {
        "id": "ntwbzu3qeYs1",
        "colab_type": "text"
      },
      "source": [
        "## Import"
      ]
    },
    {
      "cell_type": "code",
      "metadata": {
        "id": "tx1XT5Q_dSlo",
        "colab_type": "code",
        "colab": {
          "base_uri": "https://localhost:8080/",
          "height": 54
        },
        "outputId": "4ba8d602-245f-4e9c-fae7-976a9c6e9308"
      },
      "source": [
        "from google.colab import drive\n",
        "from os.path import join\n",
        "\n",
        "ROOT = '/content/drive'     \n",
        "PROJ = 'My Drive/ENGSCI/Year 3/SUMMER 2020/APS360/Project/APS360-2020Summer-Project/'\n",
        "\n",
        "drive.mount(ROOT)\n",
        "\n",
        "PROJECT_PATH = join(ROOT, PROJ)\n",
        "\n",
        "from google.colab import files\n",
        "\n",
        "# import library\n",
        "\n",
        "libPath = join(PROJECT_PATH,\"code/\")\n",
        "\n",
        "import sys\n",
        "sys.path.append(libPath)\n",
        "#!cat '/content/drive/My Drive/ENGSCI/Year 3/SUMMER 2020/APS360/Project/APS360-2020Summer-Project/code/train_AI_lib.py'\n",
        "from train_AI_lib import *"
      ],
      "execution_count": null,
      "outputs": [
        {
          "output_type": "stream",
          "text": [
            "Drive already mounted at /content/drive; to attempt to forcibly remount, call drive.mount(\"/content/drive\", force_remount=True).\n"
          ],
          "name": "stdout"
        }
      ]
    },
    {
      "cell_type": "markdown",
      "metadata": {
        "id": "a-hpyewNltdd",
        "colab_type": "text"
      },
      "source": [
        "## Model"
      ]
    },
    {
      "cell_type": "markdown",
      "metadata": {
        "id": "Jvs2azr8l87O",
        "colab_type": "text"
      },
      "source": [
        "Apply openCV filters to images, store in seperate locations.\n",
        "\n",
        "Selected OpenCV Filters:\n",
        "- [Canny Edge Detection](https://docs.opencv.org/trunk/da/d22/tutorial_py_canny.html)\n",
        "- [Out-of-focus Deblur Filter](https://docs.opencv.org/master/de/d3c/tutorial_out_of_focus_deblur_filter.html)\n",
        "- "
      ]
    },
    {
      "cell_type": "markdown",
      "metadata": {
        "id": "-5C4bPbzs2GQ",
        "colab_type": "text"
      },
      "source": [
        "[](https://colab.research.google.com/drive/1uvHuizCBqFgvbCwEhK7FvU8JW0AfxgJw#scrollTo=psH0aLrvoh78)"
      ]
    },
    {
      "cell_type": "code",
      "metadata": {
        "id": "F2Wq6dDPhxie",
        "colab_type": "code",
        "colab": {}
      },
      "source": [
        "NUM_FILTERS = 2\n",
        "\n",
        "edgeDetect = lambda oImg: cv2.Canny(oImg, 100, 200)\n",
        "\n",
        "func_ls = [edgeDetect #Canny edge detection\n",
        "           ]"
      ],
      "execution_count": null,
      "outputs": []
    },
    {
      "cell_type": "code",
      "metadata": {
        "id": "MceYhELCxUt4",
        "colab_type": "code",
        "colab": {}
      },
      "source": [
        "imgPath = [] # image dataset\n",
        "for i in range(NUM_FILTERS):\n",
        "  imgPath += PROJECT_PATH + '/Data/working-wheat-data/' + str(func_ls[i])\n",
        "  os.mkdir(imgPath[i])\n",
        "\n",
        "sPath = PROJECT_PATH + \"/saved/splitData/\" \n",
        "os.mkdir(sPath)\n",
        "\n",
        "iPath  = PROJECT_PATH + \"/data/working-wheat-data/train\"\n",
        "koPath = PROJECT_PATH + \"/data/working-wheat-data/train.csv\""
      ],
      "execution_count": null,
      "outputs": []
    },
    {
      "cell_type": "code",
      "metadata": {
        "id": "IGt1O0C7zP_b",
        "colab_type": "code",
        "colab": {}
      },
      "source": [
        "for i in range(NUM_FILTERS):\n",
        "  ret = openCVImgConvert(func=func[i], oPath=imgPath[i], iPath=iPath)"
      ],
      "execution_count": null,
      "outputs": []
    },
    {
      "cell_type": "markdown",
      "metadata": {
        "id": "85Wndlxavi51",
        "colab_type": "text"
      },
      "source": [
        "Train independent models using each of the image datasets generated above."
      ]
    },
    {
      "cell_type": "markdown",
      "metadata": {
        "id": "5ez6uFwszm44",
        "colab_type": "text"
      },
      "source": [
        "Neural Network Architecture"
      ]
    },
    {
      "cell_type": "code",
      "metadata": {
        "id": "c1zrGa9Vvniw",
        "colab_type": "code",
        "colab": {}
      },
      "source": [
        "trainLoader, valLoader, testLoader = [], [], []\n",
        "\n",
        "for i in range(NUM_FILTERS):\n",
        "  # split data into training, validation, testing\n",
        "  ret = splitData(iPath=imgPath[i], oPath=sPath, koPath=koPath)\n",
        "  if (ret!=1):\n",
        "    print(\"ERROR: splitData failed.\")\n",
        "    break\n",
        "  \n",
        "  # make dataloaders\n",
        "  trainLoader_, valLoader_, testLoader_ = loadData(batchsize = 32, \n",
        "                                                   dictPath  = sPath,\n",
        "                                                   inPath    = imgPath[i])\n",
        "  trainLoader += [trainLoader_]\n",
        "  valLoader   += [valLoader_]\n",
        "  testLoader  += [testLoader_]"
      ],
      "execution_count": null,
      "outputs": []
    },
    {
      "cell_type": "code",
      "metadata": {
        "id": "RIvMYke3zqL8",
        "colab_type": "code",
        "colab": {}
      },
      "source": [
        "class CNN(nn.Module):\n",
        "    def __init__(self, name):\n",
        "        super(CNN, self).__init__()\n",
        "        self.name = name\n",
        "\n",
        "        self.conv1 = nn.Conv2d(3,   15,  6, stride=2)  # n = 1024 -> 510\n",
        "        self.conv2 = nn.Conv2d(15,  30,  6, stride=2)  # n = 510  -> 255\n",
        "        self.pool1 = nn.MaxPool2d(3, 2)                # n = 255  -> 127\n",
        "        self.conv3 = nn.Conv2d(30,  60,  6, stride=2)  # n = 127  -> 62\n",
        "        self.pool2 = nn.MaxPool2d(4, 2)                # n = 62   -> 30\n",
        "\n",
        "        self.fc1   = nn.Linear(29*29*60, 20)\n",
        "        self.fc2   = nn.Linear(20, 1)\n",
        "\n",
        "    def forward(self, x):\n",
        "        x = self.pool1(F.relu(self.conv1(x)))\n",
        "        x = F.relu(self.conv2(x))\n",
        "        x = self.pool2(F.relu(self.conv3(x)))\n",
        "        x = x.view(-1, 29*29*60)\n",
        "        x = F.relu(self.fc1(x))\n",
        "        x = self.fc2(x)\n",
        "        return(x)"
      ],
      "execution_count": null,
      "outputs": []
    },
    {
      "cell_type": "code",
      "metadata": {
        "id": "Zzve1LsazAoV",
        "colab_type": "code",
        "colab": {}
      },
      "source": [
        "for i in range(NUM_FILTERS):\n",
        "  # train \n",
        "  trainNet(net = CNN(),\n",
        "           data = [trainLoader[i], valLoader[i]], \n",
        "           batchsize = 32, \n",
        "           epochNo = 20, \n",
        "           lr = 0.001, \n",
        "           oPath = sPath[i], \n",
        "           trainType='RegAdam', evaluate=evalRegress, isCuda=1, draw=1)"
      ],
      "execution_count": null,
      "outputs": []
    }
  ]
}