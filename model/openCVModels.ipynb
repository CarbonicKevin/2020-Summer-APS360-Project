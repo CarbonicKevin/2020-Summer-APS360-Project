{
  "nbformat": 4,
  "nbformat_minor": 0,
  "metadata": {
    "colab": {
      "name": "APS Project Revised",
      "provenance": [],
      "collapsed_sections": []
    },
    "kernelspec": {
      "name": "python_defaultSpec_1595699706782",
      "display_name": "Python 3.6.9 64-bit"
    },
    "accelerator": "GPU"
  },
  "cells": [
    {
      "cell_type": "code",
      "metadata": {
        "id": "gGG2JcPgJl2O",
        "colab_type": "code",
        "colab": {
          "base_uri": "https://localhost:8080/",
          "height": 122
        },
        "outputId": "c2d628d6-35d4-494f-852e-c9ffd53c9a2e"
      },
      "source": [
        "#from google.colab import drive\n",
        "#from google.colab import files\n",
        "import os\n",
        "from lib.train_AI_lib import *"
      ],
      "execution_count": null,
      "outputs": []
    },
    {
      "cell_type": "code",
      "execution_count": null,
      "metadata": {
        "tags": []
      },
      "outputs": [],
      "source": [
        "#os.chdir('..')\n",
        "print(os.getcwd())"
      ]
    },
    {
      "cell_type": "code",
      "metadata": {
        "id": "ho4_DfBzJtMu",
        "colab_type": "code",
        "colab": {}
      },
      "source": [
        "import cv2\n",
        "#### Filters we want to use ####\n",
        "edgeDetect  = lambda oImg: cv2.Canny(oImg, 100, 100)\n",
        "edgeDetect2 = lambda fImg: cv2.Canny(fImg, 175, 250)\n",
        "laplacian   = lambda pImg: cv2.Laplacian(cv2.cvtColor(pImg, cv2.COLOR_BGR2GRAY),cv2.CV_64F)\n",
        "gradient    = lambda gImg: cv2.morphologyEx(cv2.cvtColor(gImg, cv2.COLOR_BGR2GRAY), cv2.MORPH_GRADIENT, (5,5))\n",
        "opening     = lambda cImg: cv2.morphologyEx(cv2.cvtColor(cImg, cv2.COLOR_BGR2GRAY), cv2.MORPH_OPEN, kernel)\n",
        "bilateral   = lambda bImg: cv2.bilateralFilter(cv2.cvtColor(bImg, cv2.COLOR_BGR2GRAY),9,100,100)"
      ],
      "execution_count": null,
      "outputs": []
    },
    {
      "cell_type": "code",
      "metadata": {
        "id": "lVuAGsuXJuFc",
        "colab_type": "code",
        "colab": {}
      },
      "source": [
        "class CNN(nn.Module):\n",
        "    def __init__(self, name):\n",
        "        super(CNN, self).__init__()\n",
        "        self.name = name\n",
        "\n",
        "        self.conv1 = nn.Conv2d(1,   15,  6, stride=2)  # n = 1024 -> 510\n",
        "        self.conv2 = nn.Conv2d(15,  30,  6, stride=2)  # n = 510  -> 253\n",
        "        self.pool1 = nn.MaxPool2d(3, 2)                # n = 253  -> 126\n",
        "        self.conv3 = nn.Conv2d(30,  60,  6, stride=2)  # n = 126  -> 61\n",
        "        self.pool2 = nn.MaxPool2d(4, 2)                # n = 61   -> 29\n",
        "\n",
        "        self.fc1   = nn.Linear(29*29*60, 20)\n",
        "        self.fc2   = nn.Linear(20, 1)\n",
        "\n",
        "    def forward(self, x):\n",
        "        x = self.pool1(F.relu(self.conv1(x)))\n",
        "        x = F.relu(self.conv2(x))\n",
        "        x = self.pool2(F.relu(self.conv3(x)))\n",
        "        x = x.view(-1, 29*29*60)\n",
        "        x = F.relu(self.fc1(x))\n",
        "        x = self.fc2(x)\n",
        "        return(x)"
      ],
      "execution_count": null,
      "outputs": []
    },
    {
      "cell_type": "markdown",
      "metadata": {},
      "source": [
        "## Edge Detection"
      ]
    },
    {
      "cell_type": "code",
      "metadata": {
        "id": "vREvsIZULVot",
        "colab_type": "code",
        "colab": {}
      },
      "source": [
        "# make dataloaders\n",
        "trainLoader, valLoader, testLoader = loadData(batchsize = 32, args = {'func': edgeDetect})"
      ],
      "execution_count": null,
      "outputs": []
    },
    {
      "cell_type": "code",
      "metadata": {
        "id": "c2XAohXAM8QO",
        "colab_type": "code",
        "colab": {
          "base_uri": "https://localhost:8080/",
          "height": 34
        },
        "outputId": "5f6ded7c-4f31-49c9-b853-4ac80afff62d"
      },
      "source": [
        "torch.cuda.is_available()"
      ],
      "execution_count": null,
      "outputs": []
    },
    {
      "cell_type": "code",
      "metadata": {
        "id": "Ru8PFL2ZJvJi",
        "colab_type": "code",
        "colab": {
          "base_uri": "https://localhost:8080/",
          "height": 357
        },
        "outputId": "f1b90ffa-4300-4826-ae08-ff353d0ef9ce",
        "tags": []
      },
      "source": [
        "my_model = CNN(name = \"edgeDetect\")\n",
        "use_cuda = True\n",
        "\n",
        "if use_cuda and torch.cuda.is_available():\n",
        "  my_model.cuda()\n",
        "  print('CUDA is available!  Training on GPU ...')\n",
        "else:\n",
        "  print('CUDA is not available.  Training on CPU ...')\n",
        "\n",
        "trainNet(net = my_model,\n",
        "         data = [trainLoader, valLoader], \n",
        "         batchsize = 32, \n",
        "         epochNo = 20, \n",
        "         lr = 0.001)"
      ],
      "execution_count": null,
      "outputs": []
    },
    {
      "cell_type": "markdown",
      "metadata": {},
      "source": [
        "## Edge Detection v2"
      ]
    },
    {
      "cell_type": "code",
      "execution_count": null,
      "metadata": {},
      "outputs": [],
      "source": [
        "# make dataloaders\n",
        "trainLoader, valLoader, testLoader = loadData(batchsize = 32, args = {'func': edgeDetect2})"
      ]
    },
    {
      "cell_type": "code",
      "execution_count": null,
      "metadata": {
        "tags": []
      },
      "outputs": [],
      "source": [
        "my_model = CNN(name = \"edgeDetect2\")\n",
        "use_cuda = True\n",
        "\n",
        "if use_cuda and torch.cuda.is_available():\n",
        "  my_model.cuda()\n",
        "  print('CUDA is available!  Training on GPU ...')\n",
        "else:\n",
        "  print('CUDA is not available.  Training on CPU ...')\n",
        "\n",
        "trainNet(net = my_model,\n",
        "         data = [trainLoader, valLoader], \n",
        "         batchsize = 32, \n",
        "         epochNo = 20, \n",
        "         lr = 0.001)"
      ]
    },
    {
      "cell_type": "markdown",
      "metadata": {
        "colab": {},
        "colab_type": "code",
        "id": "01Tnk6voLOqJ"
      },
      "source": [
        "## laplacian"
      ]
    },
    {
      "cell_type": "code",
      "execution_count": null,
      "metadata": {
        "tags": []
      },
      "outputs": [],
      "source": [
        "# make dataloaders\n",
        "trainLoader, valLoader, testLoader = loadData(batchsize = 32, args = {'func': laplacian})"
      ]
    },
    {
      "cell_type": "code",
      "execution_count": null,
      "metadata": {
        "tags": []
      },
      "outputs": [],
      "source": [
        "my_model = CNN(name = \"laplacian\")\n",
        "use_cuda = True\n",
        "\n",
        "if use_cuda and torch.cuda.is_available():\n",
        "  my_model.cuda()\n",
        "  print('CUDA is available!  Training on GPU ...')\n",
        "else:\n",
        "  print('CUDA is not available.  Training on CPU ...')\n",
        "\n",
        "trainNet(net = my_model,\n",
        "         data = [trainLoader, valLoader], \n",
        "         batchsize = 32, \n",
        "         epochNo = 20, \n",
        "         lr = 0.001)"
      ]
    },
    {
      "cell_type": "markdown",
      "metadata": {},
      "source": [
        "## gradient"
      ]
    },
    {
      "cell_type": "code",
      "execution_count": null,
      "metadata": {},
      "outputs": [],
      "source": [
        "# make dataloaders\n",
        "trainLoader, valLoader, testLoader = loadData(batchsize = 32, args = {'func': gradient})"
      ]
    },
    {
      "cell_type": "code",
      "execution_count": null,
      "metadata": {
        "tags": []
      },
      "outputs": [],
      "source": [
        "my_model = CNN(name = \"gradient\")\n",
        "use_cuda = True\n",
        "\n",
        "if use_cuda and torch.cuda.is_available():\n",
        "  my_model.cuda()\n",
        "  print('CUDA is available!  Training on GPU ...')\n",
        "else:\n",
        "  print('CUDA is not available.  Training on CPU ...')\n",
        "\n",
        "trainNet(net = my_model,\n",
        "         data = [trainLoader, valLoader], \n",
        "         batchsize = 32, \n",
        "         epochNo = 20, \n",
        "         lr = 0.001)"
      ]
    },
    {
      "cell_type": "markdown",
      "metadata": {},
      "source": [
        "## opening"
      ]
    },
    {
      "cell_type": "code",
      "execution_count": null,
      "metadata": {},
      "outputs": [],
      "source": [
        "# make dataloaders\n",
        "trainLoader, valLoader, testLoader = loadData(batchsize = 32, args = {'func': opening})"
      ]
    },
    {
      "cell_type": "code",
      "execution_count": null,
      "metadata": {
        "tags": []
      },
      "outputs": [],
      "source": [
        "my_model = CNN(name = \"opening\")\n",
        "use_cuda = True\n",
        "\n",
        "if use_cuda and torch.cuda.is_available():\n",
        "  my_model.cuda()\n",
        "  print('CUDA is available!  Training on GPU ...')\n",
        "else:\n",
        "  print('CUDA is not available.  Training on CPU ...')\n",
        "\n",
        "trainNet(net = my_model,\n",
        "         data = [trainLoader, valLoader], \n",
        "         batchsize = 32, \n",
        "         epochNo = 20, \n",
        "         lr = 0.001)"
      ]
    },
    {
      "cell_type": "markdown",
      "metadata": {},
      "source": [
        "## Bilateral"
      ]
    },
    {
      "cell_type": "code",
      "execution_count": null,
      "metadata": {},
      "outputs": [],
      "source": [
        "# make dataloaders\n",
        "trainLoader, valLoader, testLoader = loadData(batchsize = 32, args = {'func': bilateral})"
      ]
    },
    {
      "cell_type": "code",
      "execution_count": null,
      "metadata": {
        "tags": []
      },
      "outputs": [],
      "source": [
        "my_model = CNN(name = \"bilateral\")\n",
        "use_cuda = True\n",
        "\n",
        "if use_cuda and torch.cuda.is_available():\n",
        "  my_model.cuda()\n",
        "  print('CUDA is available!  Training on GPU ...')\n",
        "else:\n",
        "  print('CUDA is not available.  Training on CPU ...')\n",
        "\n",
        "trainNet(net = my_model,\n",
        "         data = [trainLoader, valLoader], \n",
        "         batchsize = 32, \n",
        "         epochNo = 20, \n",
        "         lr = 0.001)"
      ]
    },
    {
      "cell_type": "markdown",
      "metadata": {},
      "source": [
        "# Filter Testing"
      ]
    },
    {
      "cell_type": "code",
      "execution_count": null,
      "metadata": {},
      "outputs": [],
      "source": [
        "filepath = '/content/APS360-2020Summer-Project/data/working-wheat-data/train/0a3cb453f.jpg'\n",
        "\n",
        "# Edge Detect 2\n",
        "img   = cv2.imread(filepath)\n",
        "edges = cv2.Canny(img,175,250)\n",
        "plt.subplot(121),plt.imshow(img,cmap = 'gray')\n",
        "plt.title('Original Image'), plt.xticks([]), plt.yticks([])\n",
        "plt.subplot(122),plt.imshow(edges,cmap = 'gray')\n",
        "plt.title('Edge Det 2'), plt.xticks([]), plt.yticks([])\n",
        "plt.show()"
      ]
    },
    {
      "cell_type": "code",
      "execution_count": null,
      "metadata": {},
      "outputs": [],
      "source": [
        "# Edge Detect 1\n",
        "img   = cv2.imread(filepath)\n",
        "edges = cv2.Canny(img,100,100)\n",
        "plt.subplot(121),plt.imshow(img,cmap = 'gray')\n",
        "plt.title('Original Image'), plt.xticks([]), plt.yticks([])\n",
        "plt.subplot(122),plt.imshow(edges,cmap = 'gray')\n",
        "plt.title('Edge Det 1'), plt.xticks([]), plt.yticks([])\n",
        "plt.show()"
      ]
    },
    {
      "cell_type": "code",
      "execution_count": null,
      "metadata": {},
      "outputs": [],
      "source": [
        "# Bilateral\n",
        "img  = cv2.imread(filepath)\n",
        "imgf = cv2.bilateralFilter(cv2.cvtColor(img, cv2.COLOR_BGR2GRAY),9,100,100)\n",
        "plt.subplot(121),plt.imshow(img,cmap = 'gray')\n",
        "plt.title('Original Image'), plt.xticks([]), plt.yticks([])\n",
        "plt.subplot(122),plt.imshow(imgf,cmap = 'gray')\n",
        "plt.title('Bilateral'), plt.xticks([]), plt.yticks([])\n",
        "plt.show()"
      ]
    },
    {
      "cell_type": "code",
      "execution_count": null,
      "metadata": {},
      "outputs": [],
      "source": [
        "# Edge Det and Bilateral\n",
        "img  = cv2.imread(filepath)\n",
        "imgf = cv2.bilateralFilter(cv2.cvtColor(img, cv2.COLOR_BGR2GRAY),9,75,50)\n",
        "imgf = cv2.Canny(imgf,125,250)\n",
        "plt.subplot(121),plt.imshow(img,cmap = 'gray')\n",
        "plt.title('Original Image'), plt.xticks([]), plt.yticks([])\n",
        "plt.subplot(122),plt.imshow(imgf,cmap = 'gray')\n",
        "plt.title('Bilateral + Edge Det'), plt.xticks([]), plt.yticks([])\n",
        "plt.show()"
      ]
    },
    {
      "cell_type": "code",
      "execution_count": null,
      "metadata": {},
      "outputs": [],
      "source": []
    }
  ]
}