{
 "cells": [
  {
   "cell_type": "code",
   "execution_count": 1,
   "metadata": {},
   "outputs": [],
   "source": [
    "import os\n",
    "from lib.train_AI_lib import *\n",
    "import cv2\n",
    "import numpy as np"
   ]
  },
  {
   "cell_type": "code",
   "execution_count": 2,
   "metadata": {
    "tags": []
   },
   "outputs": [],
   "source": [
    "os.chdir('..')"
   ]
  },
  {
   "cell_type": "code",
   "execution_count": 3,
   "metadata": {
    "tags": []
   },
   "outputs": [],
   "source": [
    "def createMask(bboxes, imgRes=(1024, 2014)):\n",
    "    globalMask = np.zeros(imgRes, dtype=bool)\n",
    "    for bbox in bboxes:\n",
    "        oneMask = np.zeros(imgRes, dtype=bool)\n",
    "        bbox = [int(number) for number in bbox]\n",
    "        # Don't ask me why this flip works, numpy and cv2 take images in differently and it's a pain to try and figure out the transformations    \n",
    "        oneMask[bbox[0]:(bbox[0]+bbox[2]), imgRes[1]-(bbox[1]+bbox[3]):imgRes[1]-bbox[1]] = np.ones((bbox[2], bbox[3]), dtype=bool)\n",
    "        globalMask = np.bitwise_or(globalMask, oneMask)\n",
    "    globalMask = np.rot90(globalMask, 1)\n",
    "    return(globalMask)\n",
    "\n",
    "def genBBoxImages(dictPath='saved/splitData', inPath='data/working-wheat-data/train', oPath='saved/bboxMasked'):\n",
    "    try: os.makedirs(oPath)  # Make the requested oPath\n",
    "    except FileExistsError: None\n",
    "    except: print(\"error creating folder {}\".format(oPath)); return(0)\n",
    "    else: None\n",
    "    \n",
    "    trainData = torch.load(dictPath+\"/trainData\")\n",
    "    valData   = torch.load(dictPath+\"/valData\"  )\n",
    "    testData  = torch.load(dictPath+\"/testData\" )\n",
    "    trainData.update(valData); trainData.update(testData)\n",
    "    imgPath   = inPath+'/'\n",
    "    keyList   = list(trainData.keys())\n",
    "\n",
    "    for i, imgName in enumerate(keyList):\n",
    "        img  = cv2.imread(imgPath+imgName)\n",
    "        bbox = trainData[imgName]\n",
    "        mask = createMask(bbox, np.shape(img)[:-1])\n",
    "        img[:, :, 0] = np.multiply(img[:, :, 0], mask)\n",
    "        img[:, :, 1] = np.multiply(img[:, :, 1], mask)\n",
    "        img[:, :, 2] = np.multiply(img[:, :, 2], mask)\n",
    "\n",
    "        if i%100==0: print(\"Converted {:.2f}%\".format(100*i/len(keyList)))\n",
    "        cv2.imwrite(oPath+'/'+imgName, img)"
   ]
  },
  {
   "cell_type": "code",
   "execution_count": 4,
   "metadata": {
    "tags": []
   },
   "outputs": [
    {
     "output_type": "stream",
     "name": "stdout",
     "text": "Converted 0.00%\nConverted 2.92%\nConverted 5.84%\nConverted 8.77%\nConverted 11.69%\nConverted 14.61%\nConverted 17.53%\nConverted 20.46%\nConverted 23.38%\nConverted 26.30%\nConverted 29.22%\nConverted 32.14%\nConverted 35.07%\nConverted 37.99%\nConverted 40.91%\nConverted 43.83%\nConverted 46.76%\nConverted 49.68%\nConverted 52.60%\nConverted 55.52%\nConverted 58.45%\nConverted 61.37%\nConverted 64.29%\nConverted 67.21%\nConverted 70.13%\nConverted 73.06%\nConverted 75.98%\nConverted 78.90%\nConverted 81.82%\nConverted 84.75%\nConverted 87.67%\nConverted 90.59%\nConverted 93.51%\nConverted 96.43%\nConverted 99.36%\n"
    }
   ],
   "source": [
    "genBBoxImages()"
   ]
  },
  {
   "cell_type": "code",
   "execution_count": null,
   "metadata": {},
   "outputs": [],
   "source": []
  }
 ],
 "metadata": {
  "language_info": {
   "codemirror_mode": {
    "name": "ipython",
    "version": 3
   },
   "file_extension": ".py",
   "mimetype": "text/x-python",
   "name": "python",
   "nbconvert_exporter": "python",
   "pygments_lexer": "ipython3",
   "version": "3.6.10-final"
  },
  "orig_nbformat": 2,
  "kernelspec": {
   "name": "python_defaultSpec_1594625086329",
   "display_name": "Python 3.6.10 64-bit ('aps360': conda)"
  }
 },
 "nbformat": 4,
 "nbformat_minor": 2
}